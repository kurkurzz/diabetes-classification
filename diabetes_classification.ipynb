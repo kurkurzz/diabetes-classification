{
 "cells": [
  {
   "cell_type": "code",
   "execution_count": 1,
   "id": "bulgarian-heath",
   "metadata": {},
   "outputs": [],
   "source": [
    "import pandas as pd\n",
    "import numpy as np\n",
    "import seaborn as sns\n",
    "import matplotlib.pyplot as plt\n",
    "\n",
    "%matplotlib inline\n",
    "\n",
    "import warnings\n",
    "warnings.filterwarnings('ignore')"
   ]
  },
  {
   "cell_type": "code",
   "execution_count": 2,
   "id": "governing-polls",
   "metadata": {},
   "outputs": [],
   "source": [
    "df = pd.read_csv('diabetes.csv')"
   ]
  },
  {
   "cell_type": "code",
   "execution_count": 3,
   "id": "municipal-edinburgh",
   "metadata": {},
   "outputs": [
    {
     "data": {
      "text/html": [
       "<div>\n",
       "<style scoped>\n",
       "    .dataframe tbody tr th:only-of-type {\n",
       "        vertical-align: middle;\n",
       "    }\n",
       "\n",
       "    .dataframe tbody tr th {\n",
       "        vertical-align: top;\n",
       "    }\n",
       "\n",
       "    .dataframe thead th {\n",
       "        text-align: right;\n",
       "    }\n",
       "</style>\n",
       "<table border=\"1\" class=\"dataframe\">\n",
       "  <thead>\n",
       "    <tr style=\"text-align: right;\">\n",
       "      <th></th>\n",
       "      <th>Pregnancies</th>\n",
       "      <th>Glucose</th>\n",
       "      <th>BloodPressure</th>\n",
       "      <th>SkinThickness</th>\n",
       "      <th>Insulin</th>\n",
       "      <th>BMI</th>\n",
       "      <th>DiabetesPedigreeFunction</th>\n",
       "      <th>Age</th>\n",
       "      <th>Outcome</th>\n",
       "    </tr>\n",
       "  </thead>\n",
       "  <tbody>\n",
       "    <tr>\n",
       "      <th>0</th>\n",
       "      <td>6</td>\n",
       "      <td>148</td>\n",
       "      <td>72</td>\n",
       "      <td>35</td>\n",
       "      <td>0</td>\n",
       "      <td>33.6</td>\n",
       "      <td>0.627</td>\n",
       "      <td>50</td>\n",
       "      <td>1</td>\n",
       "    </tr>\n",
       "    <tr>\n",
       "      <th>1</th>\n",
       "      <td>1</td>\n",
       "      <td>85</td>\n",
       "      <td>66</td>\n",
       "      <td>29</td>\n",
       "      <td>0</td>\n",
       "      <td>26.6</td>\n",
       "      <td>0.351</td>\n",
       "      <td>31</td>\n",
       "      <td>0</td>\n",
       "    </tr>\n",
       "    <tr>\n",
       "      <th>2</th>\n",
       "      <td>8</td>\n",
       "      <td>183</td>\n",
       "      <td>64</td>\n",
       "      <td>0</td>\n",
       "      <td>0</td>\n",
       "      <td>23.3</td>\n",
       "      <td>0.672</td>\n",
       "      <td>32</td>\n",
       "      <td>1</td>\n",
       "    </tr>\n",
       "    <tr>\n",
       "      <th>3</th>\n",
       "      <td>1</td>\n",
       "      <td>89</td>\n",
       "      <td>66</td>\n",
       "      <td>23</td>\n",
       "      <td>94</td>\n",
       "      <td>28.1</td>\n",
       "      <td>0.167</td>\n",
       "      <td>21</td>\n",
       "      <td>0</td>\n",
       "    </tr>\n",
       "    <tr>\n",
       "      <th>4</th>\n",
       "      <td>0</td>\n",
       "      <td>137</td>\n",
       "      <td>40</td>\n",
       "      <td>35</td>\n",
       "      <td>168</td>\n",
       "      <td>43.1</td>\n",
       "      <td>2.288</td>\n",
       "      <td>33</td>\n",
       "      <td>1</td>\n",
       "    </tr>\n",
       "  </tbody>\n",
       "</table>\n",
       "</div>"
      ],
      "text/plain": [
       "   Pregnancies  Glucose  BloodPressure  SkinThickness  Insulin   BMI  \\\n",
       "0            6      148             72             35        0  33.6   \n",
       "1            1       85             66             29        0  26.6   \n",
       "2            8      183             64              0        0  23.3   \n",
       "3            1       89             66             23       94  28.1   \n",
       "4            0      137             40             35      168  43.1   \n",
       "\n",
       "   DiabetesPedigreeFunction  Age  Outcome  \n",
       "0                     0.627   50        1  \n",
       "1                     0.351   31        0  \n",
       "2                     0.672   32        1  \n",
       "3                     0.167   21        0  \n",
       "4                     2.288   33        1  "
      ]
     },
     "execution_count": 3,
     "metadata": {},
     "output_type": "execute_result"
    }
   ],
   "source": [
    "df.head()"
   ]
  },
  {
   "cell_type": "code",
   "execution_count": 4,
   "id": "induced-caribbean",
   "metadata": {},
   "outputs": [
    {
     "data": {
      "text/plain": [
       "Pregnancies                 768\n",
       "Glucose                     768\n",
       "BloodPressure               768\n",
       "SkinThickness               768\n",
       "Insulin                     768\n",
       "BMI                         768\n",
       "DiabetesPedigreeFunction    768\n",
       "Age                         768\n",
       "Outcome                     768\n",
       "dtype: int64"
      ]
     },
     "execution_count": 4,
     "metadata": {},
     "output_type": "execute_result"
    }
   ],
   "source": [
    "df.count()"
   ]
  },
  {
   "cell_type": "markdown",
   "id": "signal-reading",
   "metadata": {},
   "source": [
    "## Standardised Data"
   ]
  },
  {
   "cell_type": "code",
   "execution_count": 5,
   "id": "bronze-hawaii",
   "metadata": {},
   "outputs": [],
   "source": [
    "from sklearn.preprocessing import StandardScaler"
   ]
  },
  {
   "cell_type": "code",
   "execution_count": 6,
   "id": "stupid-surrey",
   "metadata": {},
   "outputs": [],
   "source": [
    "scaler = StandardScaler()"
   ]
  },
  {
   "cell_type": "code",
   "execution_count": 10,
   "id": "respected-feedback",
   "metadata": {},
   "outputs": [],
   "source": [
    "scaled_data = scaler.fit_transform(df.drop('Outcome',axis=1))"
   ]
  },
  {
   "cell_type": "markdown",
   "id": "endangered-ending",
   "metadata": {},
   "source": [
    "## Convert to PCA"
   ]
  },
  {
   "cell_type": "code",
   "execution_count": 11,
   "id": "competent-creator",
   "metadata": {},
   "outputs": [],
   "source": [
    "from sklearn.decomposition import PCA"
   ]
  },
  {
   "cell_type": "code",
   "execution_count": 12,
   "id": "organizational-mobility",
   "metadata": {},
   "outputs": [],
   "source": [
    "pca = PCA(n_components=3)"
   ]
  },
  {
   "cell_type": "code",
   "execution_count": 13,
   "id": "permanent-trout",
   "metadata": {},
   "outputs": [],
   "source": [
    "x_pca = pca.fit_transform(scaled_data)"
   ]
  },
  {
   "cell_type": "code",
   "execution_count": 14,
   "id": "hungry-measurement",
   "metadata": {},
   "outputs": [
    {
     "data": {
      "text/plain": [
       "(768, 3)"
      ]
     },
     "execution_count": 14,
     "metadata": {},
     "output_type": "execute_result"
    }
   ],
   "source": [
    "x_pca.shape"
   ]
  },
  {
   "cell_type": "code",
   "execution_count": 15,
   "id": "alone-fifty",
   "metadata": {},
   "outputs": [
    {
     "data": {
      "text/plain": [
       "<AxesSubplot:>"
      ]
     },
     "execution_count": 15,
     "metadata": {},
     "output_type": "execute_result"
    },
    {
     "data": {
      "image/png": "[encoded data removed]",
      "text/plain": [
       "<Figure size 432x288 with 1 Axes>"
      ]
     },
     "metadata": {
      "needs_background": "light"
     },
     "output_type": "display_data"
    }
   ],
   "source": [
    "sns.scatterplot(x_pca[:,0],x_pca[:,1],c=df['Outcome'])"
   ]
  },
  {
   "cell_type": "code",
   "execution_count": 16,
   "id": "individual-night",
   "metadata": {},
   "outputs": [
    {
     "data": {
      "image/png": "[encoded data removed]",
      "text/plain": [
       "<Figure size 432x288 with 1 Axes>"
      ]
     },
     "metadata": {},
     "output_type": "display_data"
    }
   ],
   "source": [
    "from mpl_toolkits.mplot3d import Axes3D\n",
    "\n",
    "sns.set(style = \"darkgrid\")\n",
    "\n",
    "fig = plt.figure()\n",
    "ax = fig.add_subplot(111, projection = '3d')\n",
    "\n",
    "x = x_pca[:,0]\n",
    "y = x_pca[:,1]\n",
    "z = x_pca[:,2]\n",
    "\n",
    "ax.scatter(x, y, z,c=df['Outcome'])\n",
    "\n",
    "plt.show()"
   ]
  },
  {
   "cell_type": "markdown",
   "id": "yellow-channels",
   "metadata": {},
   "source": [
    "# Logistic Regression\n",
    "\n",
    "### 1. Without PCA"
   ]
  },
  {
   "cell_type": "code",
   "execution_count": 17,
   "id": "approved-kingdom",
   "metadata": {},
   "outputs": [],
   "source": [
    "from sklearn.model_selection import train_test_split"
   ]
  },
  {
   "cell_type": "code",
   "execution_count": 18,
   "id": "temporal-publicity",
   "metadata": {},
   "outputs": [],
   "source": [
    "X = df.drop('Outcome',axis=1)\n",
    "y = df['Outcome']\n",
    "\n",
    "X_train, X_test, y_train, y_test = train_test_split(X, y, test_size=0.30, random_state=101)"
   ]
  },
  {
   "cell_type": "code",
   "execution_count": 19,
   "id": "supreme-accent",
   "metadata": {},
   "outputs": [],
   "source": [
    "from sklearn.linear_model import LogisticRegression"
   ]
  },
  {
   "cell_type": "code",
   "execution_count": 20,
   "id": "isolated-motivation",
   "metadata": {},
   "outputs": [],
   "source": [
    "reg = LogisticRegression()"
   ]
  },
  {
   "cell_type": "code",
   "execution_count": 21,
   "id": "vertical-ribbon",
   "metadata": {},
   "outputs": [
    {
     "data": {
      "text/plain": [
       "LogisticRegression()"
      ]
     },
     "execution_count": 21,
     "metadata": {},
     "output_type": "execute_result"
    }
   ],
   "source": [
    "reg.fit(X_train,y_train)"
   ]
  },
  {
   "cell_type": "code",
   "execution_count": 22,
   "id": "strategic-guitar",
   "metadata": {},
   "outputs": [],
   "source": [
    "predictions = reg.predict(X_test)"
   ]
  },
  {
   "cell_type": "code",
   "execution_count": 23,
   "id": "optimum-supervision",
   "metadata": {},
   "outputs": [],
   "source": [
    "from sklearn.metrics import classification_report,confusion_matrix"
   ]
  },
  {
   "cell_type": "code",
   "execution_count": 24,
   "id": "physical-accreditation",
   "metadata": {},
   "outputs": [
    {
     "name": "stdout",
     "output_type": "stream",
     "text": [
      "              precision    recall  f1-score   support\n",
      "\n",
      "           0       0.82      0.89      0.85       150\n",
      "           1       0.75      0.63      0.68        81\n",
      "\n",
      "    accuracy                           0.80       231\n",
      "   macro avg       0.78      0.76      0.77       231\n",
      "weighted avg       0.79      0.80      0.79       231\n",
      "\n"
     ]
    }
   ],
   "source": [
    "print(classification_report(y_test,predictions))"
   ]
  },
  {
   "cell_type": "code",
   "execution_count": 25,
   "id": "complex-success",
   "metadata": {},
   "outputs": [
    {
     "name": "stdout",
     "output_type": "stream",
     "text": [
      "[[133  17]\n",
      " [ 30  51]]\n"
     ]
    }
   ],
   "source": [
    "print(confusion_matrix(y_test,predictions))"
   ]
  },
  {
   "cell_type": "markdown",
   "id": "spoken-combat",
   "metadata": {},
   "source": [
    "### 2. With PCA "
   ]
  },
  {
   "cell_type": "code",
   "execution_count": 26,
   "id": "ongoing-headquarters",
   "metadata": {},
   "outputs": [],
   "source": [
    "X = x_pca\n",
    "y = df['Outcome']\n",
    "\n",
    "X_train, X_test, y_train, y_test = train_test_split(X, y, test_size=0.30, random_state=101)"
   ]
  },
  {
   "cell_type": "code",
   "execution_count": 27,
   "id": "going-partner",
   "metadata": {},
   "outputs": [],
   "source": [
    "reg = LogisticRegression()"
   ]
  },
  {
   "cell_type": "code",
   "execution_count": 28,
   "id": "mysterious-johnson",
   "metadata": {},
   "outputs": [
    {
     "data": {
      "text/plain": [
       "LogisticRegression()"
      ]
     },
     "execution_count": 28,
     "metadata": {},
     "output_type": "execute_result"
    }
   ],
   "source": [
    "reg.fit(X_train,y_train)"
   ]
  },
  {
   "cell_type": "code",
   "execution_count": 29,
   "id": "racial-observation",
   "metadata": {},
   "outputs": [],
   "source": [
    "predictions = reg.predict(X_test)"
   ]
  },
  {
   "cell_type": "code",
   "execution_count": 30,
   "id": "medical-poetry",
   "metadata": {},
   "outputs": [
    {
     "name": "stdout",
     "output_type": "stream",
     "text": [
      "              precision    recall  f1-score   support\n",
      "\n",
      "           0       0.75      0.86      0.80       150\n",
      "           1       0.65      0.48      0.55        81\n",
      "\n",
      "    accuracy                           0.73       231\n",
      "   macro avg       0.70      0.67      0.68       231\n",
      "weighted avg       0.72      0.73      0.72       231\n",
      "\n"
     ]
    }
   ],
   "source": [
    "print(classification_report(y_test,predictions))"
   ]
  },
  {
   "cell_type": "code",
   "execution_count": 31,
   "id": "ranking-gilbert",
   "metadata": {},
   "outputs": [
    {
     "name": "stdout",
     "output_type": "stream",
     "text": [
      "[[129  21]\n",
      " [ 42  39]]\n"
     ]
    }
   ],
   "source": [
    "print(confusion_matrix(y_test,predictions))"
   ]
  },
  {
   "cell_type": "markdown",
   "id": "baking-slovakia",
   "metadata": {},
   "source": [
    "# Support Vector Machine\n",
    "\n",
    "### 1. Without PCA"
   ]
  },
  {
   "cell_type": "code",
   "execution_count": 32,
   "id": "minus-charles",
   "metadata": {},
   "outputs": [],
   "source": [
    "from sklearn.svm import SVC"
   ]
  },
  {
   "cell_type": "code",
   "execution_count": 33,
   "id": "discrete-island",
   "metadata": {},
   "outputs": [],
   "source": [
    "from sklearn.model_selection import GridSearchCV"
   ]
  },
  {
   "cell_type": "code",
   "execution_count": 34,
   "id": "turkish-latvia",
   "metadata": {},
   "outputs": [],
   "source": [
    "X = df.drop('Outcome',axis=1)\n",
    "y = df['Outcome']\n",
    "\n",
    "X_train, X_test, y_train, y_test = train_test_split(X, y, test_size=0.30, random_state=101)"
   ]
  },
  {
   "cell_type": "code",
   "execution_count": 35,
   "id": "environmental-exception",
   "metadata": {},
   "outputs": [],
   "source": [
    "param_grid= {'C':[0.1,1,10,100,1000],'gamma':[1,0.1,0.01,0.001,0.0001]}"
   ]
  },
  {
   "cell_type": "code",
   "execution_count": 36,
   "id": "saving-fever",
   "metadata": {},
   "outputs": [],
   "source": [
    "grid = GridSearchCV(SVC(),param_grid,verbose=2)"
   ]
  },
  {
   "cell_type": "code",
   "execution_count": 37,
   "id": "blocked-recovery",
   "metadata": {},
   "outputs": [
    {
     "name": "stdout",
     "output_type": "stream",
     "text": [
      "Fitting 5 folds for each of 25 candidates, totalling 125 fits\n",
      "[CV] END .....................................C=0.1, gamma=1; total time=   0.0s\n",
      "[CV] END .....................................C=0.1, gamma=1; total time=   0.0s\n",
      "[CV] END .....................................C=0.1, gamma=1; total time=   0.0s\n",
      "[CV] END .....................................C=0.1, gamma=1; total time=   0.0s\n",
      "[CV] END .....................................C=0.1, gamma=1; total time=   0.0s\n",
      "[CV] END ...................................C=0.1, gamma=0.1; total time=   0.0s\n",
      "[CV] END ...................................C=0.1, gamma=0.1; total time=   0.0s\n",
      "[CV] END ...................................C=0.1, gamma=0.1; total time=   0.0s\n",
      "[CV] END ...................................C=0.1, gamma=0.1; total time=   0.0s\n",
      "[CV] END ...................................C=0.1, gamma=0.1; total time=   0.0s\n",
      "[CV] END ..................................C=0.1, gamma=0.01; total time=   0.0s\n",
      "[CV] END ..................................C=0.1, gamma=0.01; total time=   0.0s\n",
      "[CV] END ..................................C=0.1, gamma=0.01; total time=   0.0s\n",
      "[CV] END ..................................C=0.1, gamma=0.01; total time=   0.0s\n",
      "[CV] END ..................................C=0.1, gamma=0.01; total time=   0.0s\n",
      "[CV] END .................................C=0.1, gamma=0.001; total time=   0.0s\n",
      "[CV] END .................................C=0.1, gamma=0.001; total time=   0.0s\n",
      "[CV] END .................................C=0.1, gamma=0.001; total time=   0.0s\n",
      "[CV] END .................................C=0.1, gamma=0.001; total time=   0.0s\n",
      "[CV] END .................................C=0.1, gamma=0.001; total time=   0.0s\n",
      "[CV] END ................................C=0.1, gamma=0.0001; total time=   0.0s\n",
      "[CV] END ................................C=0.1, gamma=0.0001; total time=   0.0s\n",
      "[CV] END ................................C=0.1, gamma=0.0001; total time=   0.0s\n",
      "[CV] END ................................C=0.1, gamma=0.0001; total time=   0.0s\n",
      "[CV] END ................................C=0.1, gamma=0.0001; total time=   0.0s\n",
      "[CV] END .......................................C=1, gamma=1; total time=   0.0s\n",
      "[CV] END .......................................C=1, gamma=1; total time=   0.0s\n",
      "[CV] END .......................................C=1, gamma=1; total time=   0.0s\n",
      "[CV] END .......................................C=1, gamma=1; total time=   0.0s\n",
      "[CV] END .......................................C=1, gamma=1; total time=   0.0s\n",
      "[CV] END .....................................C=1, gamma=0.1; total time=   0.0s\n",
      "[CV] END .....................................C=1, gamma=0.1; total time=   0.0s\n",
      "[CV] END .....................................C=1, gamma=0.1; total time=   0.0s\n",
      "[CV] END .....................................C=1, gamma=0.1; total time=   0.0s\n",
      "[CV] END .....................................C=1, gamma=0.1; total time=   0.0s\n",
      "[CV] END ....................................C=1, gamma=0.01; total time=   0.0s\n",
      "[CV] END ....................................C=1, gamma=0.01; total time=   0.0s\n",
      "[CV] END ....................................C=1, gamma=0.01; total time=   0.0s\n",
      "[CV] END ....................................C=1, gamma=0.01; total time=   0.0s\n",
      "[CV] END ....................................C=1, gamma=0.01; total time=   0.0s\n",
      "[CV] END ...................................C=1, gamma=0.001; total time=   0.0s\n",
      "[CV] END ...................................C=1, gamma=0.001; total time=   0.0s\n",
      "[CV] END ...................................C=1, gamma=0.001; total time=   0.0s\n",
      "[CV] END ...................................C=1, gamma=0.001; total time=   0.0s\n",
      "[CV] END ...................................C=1, gamma=0.001; total time=   0.0s\n",
      "[CV] END ..................................C=1, gamma=0.0001; total time=   0.0s\n",
      "[CV] END ..................................C=1, gamma=0.0001; total time=   0.0s\n",
      "[CV] END ..................................C=1, gamma=0.0001; total time=   0.0s\n",
      "[CV] END ..................................C=1, gamma=0.0001; total time=   0.0s\n",
      "[CV] END ..................................C=1, gamma=0.0001; total time=   0.0s\n",
      "[CV] END ......................................C=10, gamma=1; total time=   0.0s\n",
      "[CV] END ......................................C=10, gamma=1; total time=   0.0s\n",
      "[CV] END ......................................C=10, gamma=1; total time=   0.0s\n",
      "[CV] END ......................................C=10, gamma=1; total time=   0.0s\n",
      "[CV] END ......................................C=10, gamma=1; total time=   0.0s\n",
      "[CV] END ....................................C=10, gamma=0.1; total time=   0.0s\n",
      "[CV] END ....................................C=10, gamma=0.1; total time=   0.0s\n",
      "[CV] END ....................................C=10, gamma=0.1; total time=   0.0s\n",
      "[CV] END ....................................C=10, gamma=0.1; total time=   0.0s\n",
      "[CV] END ....................................C=10, gamma=0.1; total time=   0.0s\n",
      "[CV] END ...................................C=10, gamma=0.01; total time=   0.0s\n",
      "[CV] END ...................................C=10, gamma=0.01; total time=   0.0s\n",
      "[CV] END ...................................C=10, gamma=0.01; total time=   0.0s\n",
      "[CV] END ...................................C=10, gamma=0.01; total time=   0.0s\n",
      "[CV] END ...................................C=10, gamma=0.01; total time=   0.0s\n",
      "[CV] END ..................................C=10, gamma=0.001; total time=   0.0s\n",
      "[CV] END ..................................C=10, gamma=0.001; total time=   0.0s\n",
      "[CV] END ..................................C=10, gamma=0.001; total time=   0.0s\n",
      "[CV] END ..................................C=10, gamma=0.001; total time=   0.0s\n",
      "[CV] END ..................................C=10, gamma=0.001; total time=   0.0s\n",
      "[CV] END .................................C=10, gamma=0.0001; total time=   0.0s\n",
      "[CV] END .................................C=10, gamma=0.0001; total time=   0.0s\n",
      "[CV] END .................................C=10, gamma=0.0001; total time=   0.0s\n",
      "[CV] END .................................C=10, gamma=0.0001; total time=   0.0s\n",
      "[CV] END .................................C=10, gamma=0.0001; total time=   0.0s\n",
      "[CV] END .....................................C=100, gamma=1; total time=   0.0s\n",
      "[CV] END .....................................C=100, gamma=1; total time=   0.0s\n",
      "[CV] END .....................................C=100, gamma=1; total time=   0.0s\n",
      "[CV] END .....................................C=100, gamma=1; total time=   0.0s\n",
      "[CV] END .....................................C=100, gamma=1; total time=   0.0s\n",
      "[CV] END ...................................C=100, gamma=0.1; total time=   0.0s\n",
      "[CV] END ...................................C=100, gamma=0.1; total time=   0.0s\n",
      "[CV] END ...................................C=100, gamma=0.1; total time=   0.0s\n",
      "[CV] END ...................................C=100, gamma=0.1; total time=   0.0s\n",
      "[CV] END ...................................C=100, gamma=0.1; total time=   0.0s\n",
      "[CV] END ..................................C=100, gamma=0.01; total time=   0.0s\n",
      "[CV] END ..................................C=100, gamma=0.01; total time=   0.0s\n",
      "[CV] END ..................................C=100, gamma=0.01; total time=   0.0s\n",
      "[CV] END ..................................C=100, gamma=0.01; total time=   0.0s\n",
      "[CV] END ..................................C=100, gamma=0.01; total time=   0.0s\n",
      "[CV] END .................................C=100, gamma=0.001; total time=   0.0s\n",
      "[CV] END .................................C=100, gamma=0.001; total time=   0.0s\n",
      "[CV] END .................................C=100, gamma=0.001; total time=   0.0s\n",
      "[CV] END .................................C=100, gamma=0.001; total time=   0.0s\n",
      "[CV] END .................................C=100, gamma=0.001; total time=   0.0s\n",
      "[CV] END ................................C=100, gamma=0.0001; total time=   0.0s\n",
      "[CV] END ................................C=100, gamma=0.0001; total time=   0.0s\n",
      "[CV] END ................................C=100, gamma=0.0001; total time=   0.0s\n",
      "[CV] END ................................C=100, gamma=0.0001; total time=   0.0s\n",
      "[CV] END ................................C=100, gamma=0.0001; total time=   0.0s\n",
      "[CV] END ....................................C=1000, gamma=1; total time=   0.0s\n",
      "[CV] END ....................................C=1000, gamma=1; total time=   0.0s\n",
      "[CV] END ....................................C=1000, gamma=1; total time=   0.0s\n",
      "[CV] END ....................................C=1000, gamma=1; total time=   0.0s\n",
      "[CV] END ....................................C=1000, gamma=1; total time=   0.0s\n",
      "[CV] END ..................................C=1000, gamma=0.1; total time=   0.0s\n",
      "[CV] END ..................................C=1000, gamma=0.1; total time=   0.0s\n"
     ]
    },
    {
     "name": "stdout",
     "output_type": "stream",
     "text": [
      "[CV] END ..................................C=1000, gamma=0.1; total time=   0.0s\n",
      "[CV] END ..................................C=1000, gamma=0.1; total time=   0.0s\n",
      "[CV] END ..................................C=1000, gamma=0.1; total time=   0.0s\n",
      "[CV] END .................................C=1000, gamma=0.01; total time=   0.0s\n",
      "[CV] END .................................C=1000, gamma=0.01; total time=   0.0s\n",
      "[CV] END .................................C=1000, gamma=0.01; total time=   0.0s\n",
      "[CV] END .................................C=1000, gamma=0.01; total time=   0.0s\n",
      "[CV] END .................................C=1000, gamma=0.01; total time=   0.0s\n",
      "[CV] END ................................C=1000, gamma=0.001; total time=   0.0s\n",
      "[CV] END ................................C=1000, gamma=0.001; total time=   0.0s\n",
      "[CV] END ................................C=1000, gamma=0.001; total time=   0.0s\n",
      "[CV] END ................................C=1000, gamma=0.001; total time=   0.0s\n",
      "[CV] END ................................C=1000, gamma=0.001; total time=   0.0s\n",
      "[CV] END ...............................C=1000, gamma=0.0001; total time=   0.0s\n",
      "[CV] END ...............................C=1000, gamma=0.0001; total time=   0.0s\n",
      "[CV] END ...............................C=1000, gamma=0.0001; total time=   0.0s\n",
      "[CV] END ...............................C=1000, gamma=0.0001; total time=   0.0s\n",
      "[CV] END ...............................C=1000, gamma=0.0001; total time=   0.0s\n"
     ]
    },
    {
     "data": {
      "text/plain": [
       "GridSearchCV(estimator=SVC(),\n",
       "             param_grid={'C': [0.1, 1, 10, 100, 1000],\n",
       "                         'gamma': [1, 0.1, 0.01, 0.001, 0.0001]},\n",
       "             verbose=2)"
      ]
     },
     "execution_count": 37,
     "metadata": {},
     "output_type": "execute_result"
    }
   ],
   "source": [
    "grid.fit(X_train,y_train)"
   ]
  },
  {
   "cell_type": "code",
   "execution_count": 38,
   "id": "bearing-beach",
   "metadata": {},
   "outputs": [],
   "source": [
    "predictions = grid.predict(X_test)"
   ]
  },
  {
   "cell_type": "code",
   "execution_count": 39,
   "id": "exceptional-undergraduate",
   "metadata": {},
   "outputs": [
    {
     "name": "stdout",
     "output_type": "stream",
     "text": [
      "              precision    recall  f1-score   support\n",
      "\n",
      "           0       0.77      0.86      0.81       150\n",
      "           1       0.67      0.53      0.59        81\n",
      "\n",
      "    accuracy                           0.74       231\n",
      "   macro avg       0.72      0.70      0.70       231\n",
      "weighted avg       0.74      0.74      0.74       231\n",
      "\n"
     ]
    }
   ],
   "source": [
    "print(classification_report(y_test,predictions))"
   ]
  },
  {
   "cell_type": "code",
   "execution_count": 40,
   "id": "automated-graduate",
   "metadata": {},
   "outputs": [
    {
     "name": "stdout",
     "output_type": "stream",
     "text": [
      "[[129  21]\n",
      " [ 38  43]]\n"
     ]
    }
   ],
   "source": [
    "print(confusion_matrix(y_test,predictions))"
   ]
  },
  {
   "cell_type": "markdown",
   "id": "fourth-bowling",
   "metadata": {},
   "source": [
    "### 2. With PCA"
   ]
  },
  {
   "cell_type": "code",
   "execution_count": 41,
   "id": "talented-retreat",
   "metadata": {},
   "outputs": [],
   "source": [
    "X = x_pca\n",
    "y = df['Outcome']\n",
    "\n",
    "X_train, X_test, y_train, y_test = train_test_split(X, y, test_size=0.30, random_state=101)"
   ]
  },
  {
   "cell_type": "code",
   "execution_count": 42,
   "id": "visible-ballot",
   "metadata": {},
   "outputs": [],
   "source": [
    "grid = GridSearchCV(SVC(),param_grid,verbose=2)"
   ]
  },
  {
   "cell_type": "code",
   "execution_count": 43,
   "id": "satellite-henry",
   "metadata": {},
   "outputs": [
    {
     "name": "stdout",
     "output_type": "stream",
     "text": [
      "Fitting 5 folds for each of 25 candidates, totalling 125 fits\n",
      "[CV] END .....................................C=0.1, gamma=1; total time=   0.0s\n",
      "[CV] END .....................................C=0.1, gamma=1; total time=   0.0s\n",
      "[CV] END .....................................C=0.1, gamma=1; total time=   0.0s\n",
      "[CV] END .....................................C=0.1, gamma=1; total time=   0.0s\n",
      "[CV] END .....................................C=0.1, gamma=1; total time=   0.0s\n",
      "[CV] END ...................................C=0.1, gamma=0.1; total time=   0.0s\n",
      "[CV] END ...................................C=0.1, gamma=0.1; total time=   0.0s\n",
      "[CV] END ...................................C=0.1, gamma=0.1; total time=   0.0s\n",
      "[CV] END ...................................C=0.1, gamma=0.1; total time=   0.0s\n",
      "[CV] END ...................................C=0.1, gamma=0.1; total time=   0.0s\n",
      "[CV] END ..................................C=0.1, gamma=0.01; total time=   0.0s\n",
      "[CV] END ..................................C=0.1, gamma=0.01; total time=   0.0s\n",
      "[CV] END ..................................C=0.1, gamma=0.01; total time=   0.0s\n",
      "[CV] END ..................................C=0.1, gamma=0.01; total time=   0.0s\n",
      "[CV] END ..................................C=0.1, gamma=0.01; total time=   0.0s\n",
      "[CV] END .................................C=0.1, gamma=0.001; total time=   0.0s\n",
      "[CV] END .................................C=0.1, gamma=0.001; total time=   0.0s\n",
      "[CV] END .................................C=0.1, gamma=0.001; total time=   0.0s\n",
      "[CV] END .................................C=0.1, gamma=0.001; total time=   0.0s\n",
      "[CV] END .................................C=0.1, gamma=0.001; total time=   0.0s\n",
      "[CV] END ................................C=0.1, gamma=0.0001; total time=   0.0s\n",
      "[CV] END ................................C=0.1, gamma=0.0001; total time=   0.0s\n",
      "[CV] END ................................C=0.1, gamma=0.0001; total time=   0.0s\n",
      "[CV] END ................................C=0.1, gamma=0.0001; total time=   0.0s\n",
      "[CV] END ................................C=0.1, gamma=0.0001; total time=   0.0s\n",
      "[CV] END .......................................C=1, gamma=1; total time=   0.0s\n",
      "[CV] END .......................................C=1, gamma=1; total time=   0.0s\n",
      "[CV] END .......................................C=1, gamma=1; total time=   0.0s\n",
      "[CV] END .......................................C=1, gamma=1; total time=   0.0s\n",
      "[CV] END .......................................C=1, gamma=1; total time=   0.0s\n",
      "[CV] END .....................................C=1, gamma=0.1; total time=   0.0s\n",
      "[CV] END .....................................C=1, gamma=0.1; total time=   0.0s\n",
      "[CV] END .....................................C=1, gamma=0.1; total time=   0.0s\n",
      "[CV] END .....................................C=1, gamma=0.1; total time=   0.0s\n",
      "[CV] END .....................................C=1, gamma=0.1; total time=   0.0s\n",
      "[CV] END ....................................C=1, gamma=0.01; total time=   0.0s\n",
      "[CV] END ....................................C=1, gamma=0.01; total time=   0.0s\n",
      "[CV] END ....................................C=1, gamma=0.01; total time=   0.0s\n",
      "[CV] END ....................................C=1, gamma=0.01; total time=   0.0s\n",
      "[CV] END ....................................C=1, gamma=0.01; total time=   0.0s\n",
      "[CV] END ...................................C=1, gamma=0.001; total time=   0.0s\n",
      "[CV] END ...................................C=1, gamma=0.001; total time=   0.0s\n",
      "[CV] END ...................................C=1, gamma=0.001; total time=   0.0s\n",
      "[CV] END ...................................C=1, gamma=0.001; total time=   0.0s\n",
      "[CV] END ...................................C=1, gamma=0.001; total time=   0.0s\n",
      "[CV] END ..................................C=1, gamma=0.0001; total time=   0.0s\n",
      "[CV] END ..................................C=1, gamma=0.0001; total time=   0.0s\n",
      "[CV] END ..................................C=1, gamma=0.0001; total time=   0.0s\n",
      "[CV] END ..................................C=1, gamma=0.0001; total time=   0.0s\n",
      "[CV] END ..................................C=1, gamma=0.0001; total time=   0.0s\n",
      "[CV] END ......................................C=10, gamma=1; total time=   0.0s\n",
      "[CV] END ......................................C=10, gamma=1; total time=   0.0s\n",
      "[CV] END ......................................C=10, gamma=1; total time=   0.0s\n",
      "[CV] END ......................................C=10, gamma=1; total time=   0.0s\n",
      "[CV] END ......................................C=10, gamma=1; total time=   0.0s\n",
      "[CV] END ....................................C=10, gamma=0.1; total time=   0.0s\n",
      "[CV] END ....................................C=10, gamma=0.1; total time=   0.0s\n",
      "[CV] END ....................................C=10, gamma=0.1; total time=   0.0s\n",
      "[CV] END ....................................C=10, gamma=0.1; total time=   0.0s\n",
      "[CV] END ....................................C=10, gamma=0.1; total time=   0.0s\n",
      "[CV] END ...................................C=10, gamma=0.01; total time=   0.0s\n",
      "[CV] END ...................................C=10, gamma=0.01; total time=   0.0s\n",
      "[CV] END ...................................C=10, gamma=0.01; total time=   0.0s\n",
      "[CV] END ...................................C=10, gamma=0.01; total time=   0.0s\n",
      "[CV] END ...................................C=10, gamma=0.01; total time=   0.0s\n",
      "[CV] END ..................................C=10, gamma=0.001; total time=   0.0s\n",
      "[CV] END ..................................C=10, gamma=0.001; total time=   0.0s\n",
      "[CV] END ..................................C=10, gamma=0.001; total time=   0.0s\n",
      "[CV] END ..................................C=10, gamma=0.001; total time=   0.0s\n",
      "[CV] END ..................................C=10, gamma=0.001; total time=   0.0s\n",
      "[CV] END .................................C=10, gamma=0.0001; total time=   0.0s\n",
      "[CV] END .................................C=10, gamma=0.0001; total time=   0.0s\n",
      "[CV] END .................................C=10, gamma=0.0001; total time=   0.0s\n",
      "[CV] END .................................C=10, gamma=0.0001; total time=   0.0s\n",
      "[CV] END .................................C=10, gamma=0.0001; total time=   0.0s\n",
      "[CV] END .....................................C=100, gamma=1; total time=   0.0s\n",
      "[CV] END .....................................C=100, gamma=1; total time=   0.0s\n",
      "[CV] END .....................................C=100, gamma=1; total time=   0.0s\n",
      "[CV] END .....................................C=100, gamma=1; total time=   0.0s\n",
      "[CV] END .....................................C=100, gamma=1; total time=   0.0s\n",
      "[CV] END ...................................C=100, gamma=0.1; total time=   0.0s\n",
      "[CV] END ...................................C=100, gamma=0.1; total time=   0.0s\n",
      "[CV] END ...................................C=100, gamma=0.1; total time=   0.0s\n",
      "[CV] END ...................................C=100, gamma=0.1; total time=   0.0s\n",
      "[CV] END ...................................C=100, gamma=0.1; total time=   0.0s\n",
      "[CV] END ..................................C=100, gamma=0.01; total time=   0.0s\n",
      "[CV] END ..................................C=100, gamma=0.01; total time=   0.0s\n",
      "[CV] END ..................................C=100, gamma=0.01; total time=   0.0s\n",
      "[CV] END ..................................C=100, gamma=0.01; total time=   0.0s\n",
      "[CV] END ..................................C=100, gamma=0.01; total time=   0.0s\n",
      "[CV] END .................................C=100, gamma=0.001; total time=   0.0s\n",
      "[CV] END .................................C=100, gamma=0.001; total time=   0.0s\n",
      "[CV] END .................................C=100, gamma=0.001; total time=   0.0s\n",
      "[CV] END .................................C=100, gamma=0.001; total time=   0.0s\n",
      "[CV] END .................................C=100, gamma=0.001; total time=   0.0s\n",
      "[CV] END ................................C=100, gamma=0.0001; total time=   0.0s\n",
      "[CV] END ................................C=100, gamma=0.0001; total time=   0.0s\n",
      "[CV] END ................................C=100, gamma=0.0001; total time=   0.0s\n",
      "[CV] END ................................C=100, gamma=0.0001; total time=   0.0s\n",
      "[CV] END ................................C=100, gamma=0.0001; total time=   0.0s\n",
      "[CV] END ....................................C=1000, gamma=1; total time=   0.0s\n",
      "[CV] END ....................................C=1000, gamma=1; total time=   0.0s\n",
      "[CV] END ....................................C=1000, gamma=1; total time=   0.0s\n",
      "[CV] END ....................................C=1000, gamma=1; total time=   0.0s\n"
     ]
    },
    {
     "name": "stdout",
     "output_type": "stream",
     "text": [
      "[CV] END ....................................C=1000, gamma=1; total time=   0.0s\n",
      "[CV] END ..................................C=1000, gamma=0.1; total time=   0.0s\n",
      "[CV] END ..................................C=1000, gamma=0.1; total time=   0.0s\n",
      "[CV] END ..................................C=1000, gamma=0.1; total time=   0.0s\n",
      "[CV] END ..................................C=1000, gamma=0.1; total time=   0.0s\n",
      "[CV] END ..................................C=1000, gamma=0.1; total time=   0.0s\n",
      "[CV] END .................................C=1000, gamma=0.01; total time=   0.0s\n",
      "[CV] END .................................C=1000, gamma=0.01; total time=   0.0s\n",
      "[CV] END .................................C=1000, gamma=0.01; total time=   0.0s\n",
      "[CV] END .................................C=1000, gamma=0.01; total time=   0.0s\n",
      "[CV] END .................................C=1000, gamma=0.01; total time=   0.0s\n",
      "[CV] END ................................C=1000, gamma=0.001; total time=   0.0s\n",
      "[CV] END ................................C=1000, gamma=0.001; total time=   0.0s\n",
      "[CV] END ................................C=1000, gamma=0.001; total time=   0.0s\n",
      "[CV] END ................................C=1000, gamma=0.001; total time=   0.0s\n",
      "[CV] END ................................C=1000, gamma=0.001; total time=   0.0s\n",
      "[CV] END ...............................C=1000, gamma=0.0001; total time=   0.0s\n",
      "[CV] END ...............................C=1000, gamma=0.0001; total time=   0.0s\n",
      "[CV] END ...............................C=1000, gamma=0.0001; total time=   0.0s\n",
      "[CV] END ...............................C=1000, gamma=0.0001; total time=   0.0s\n",
      "[CV] END ...............................C=1000, gamma=0.0001; total time=   0.0s\n"
     ]
    },
    {
     "data": {
      "text/plain": [
       "GridSearchCV(estimator=SVC(),\n",
       "             param_grid={'C': [0.1, 1, 10, 100, 1000],\n",
       "                         'gamma': [1, 0.1, 0.01, 0.001, 0.0001]},\n",
       "             verbose=2)"
      ]
     },
     "execution_count": 43,
     "metadata": {},
     "output_type": "execute_result"
    }
   ],
   "source": [
    "grid.fit(X_train,y_train)"
   ]
  },
  {
   "cell_type": "code",
   "execution_count": 44,
   "id": "charming-airport",
   "metadata": {},
   "outputs": [],
   "source": [
    "predictions = grid.predict(X_test)"
   ]
  },
  {
   "cell_type": "code",
   "execution_count": 45,
   "id": "respective-controversy",
   "metadata": {
    "scrolled": true
   },
   "outputs": [
    {
     "name": "stdout",
     "output_type": "stream",
     "text": [
      "              precision    recall  f1-score   support\n",
      "\n",
      "           0       0.76      0.87      0.81       150\n",
      "           1       0.67      0.48      0.56        81\n",
      "\n",
      "    accuracy                           0.74       231\n",
      "   macro avg       0.71      0.68      0.69       231\n",
      "weighted avg       0.73      0.74      0.72       231\n",
      "\n"
     ]
    }
   ],
   "source": [
    "print(classification_report(y_test,predictions))"
   ]
  },
  {
   "cell_type": "code",
   "execution_count": 46,
   "id": "initial-cooper",
   "metadata": {},
   "outputs": [
    {
     "name": "stdout",
     "output_type": "stream",
     "text": [
      "[[131  19]\n",
      " [ 42  39]]\n"
     ]
    }
   ],
   "source": [
    "print(confusion_matrix(y_test,predictions))"
   ]
  },
  {
   "cell_type": "code",
   "execution_count": null,
   "id": "immune-canada",
   "metadata": {},
   "outputs": [],
   "source": []
  }
 ],
 "metadata": {
  "kernelspec": {
   "display_name": "Python 3",
   "language": "python",
   "name": "python3"
  },
  "language_info": {
   "codemirror_mode": {
    "name": "ipython",
    "version": 3
   },
   "file_extension": ".py",
   "mimetype": "text/x-python",
   "name": "python",
   "nbconvert_exporter": "python",
   "pygments_lexer": "ipython3",
   "version": "3.8.6"
  }
 },
 "nbformat": 4,
 "nbformat_minor": 5
}
